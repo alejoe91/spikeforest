{
 "cells": [
  {
   "cell_type": "code",
   "execution_count": 1,
   "id": "amended-premiere",
   "metadata": {},
   "outputs": [
    {
     "name": "stderr",
     "output_type": "stream",
     "text": [
      "/Users/abuccino/anaconda3/envs/si/lib/python3.8/site-packages/klustakwik2/__init__.py:12: ResourceWarning: unclosed file <_io.TextIOWrapper name='/dev/null' mode='w' encoding='UTF-8'>\n",
      "  __version__ = get_kk_version(__version__)\n",
      "ResourceWarning: Enable tracemalloc to get the object allocation traceback\n",
      "19:45:18 [I] klustakwik KlustaKwik2 version 0.2.6\n"
     ]
    }
   ],
   "source": [
    "from sfsortingresults import SFSortingResults\n",
    "import spikewidgets as sw\n",
    "%matplotlib notebook"
   ]
  },
  {
   "cell_type": "markdown",
   "id": "changed-google",
   "metadata": {},
   "source": [
    "### Instantiate a `SFSortingResults` object"
   ]
  },
  {
   "cell_type": "markdown",
   "id": "isolated-context",
   "metadata": {},
   "source": [
    "The `SFSortingResults` object allows you to easily retrieve studies, recording names, and available sorted results:"
   ]
  },
  {
   "cell_type": "code",
   "execution_count": 2,
   "id": "driving-romania",
   "metadata": {},
   "outputs": [
    {
     "name": "stdout",
     "output_type": "stream",
     "text": [
      "Found 5094 sorting outputs\n"
     ]
    },
    {
     "name": "stderr",
     "output_type": "stream",
     "text": [
      "/Users/abuccino/anaconda3/envs/si/lib/python3.8/site-packages/ipykernel/ipkernel.py:287: DeprecationWarning: `should_run_async` will not call `transform_cell` automatically in the future. Please pass the result to `transformed_cell` argument and any exception that happen during thetransform in `preprocessing_exc_tuple` in IPython 7.17 and above.\n",
      "  and should_run_async(code)\n"
     ]
    }
   ],
   "source": [
    "sfresults = SFSortingResults()"
   ]
  },
  {
   "cell_type": "code",
   "execution_count": 5,
   "id": "tropical-success",
   "metadata": {},
   "outputs": [],
   "source": [
    "# retrieve study names\n",
    "study_names = sfresults.get_study_names()"
   ]
  },
  {
   "cell_type": "code",
   "execution_count": 6,
   "id": "independent-integration",
   "metadata": {},
   "outputs": [
    {
     "name": "stdout",
     "output_type": "stream",
     "text": [
      "Available studies:\n",
      "['hybrid_drift_siprobe', 'hybrid_drift_tetrode', 'hybrid_static_siprobe', 'hybrid_static_tetrode', 'manual_tetrode_1200s', 'manual_tetrode_2400s', 'manual_tetrode_600s', 'mea_c30', 'neurocube_quiroga_difficult1', 'neurocube_quiroga_difficult2', 'neurocube_quiroga_easy1', 'neurocube_quiroga_easy2', 'neurocube_sim2_11K20', 'neurocube_sim2_2K10', 'paired_boyden32c', 'paired_crcns', 'paired_english', 'paired_kampff', 'paired_mea64c', 'paired_monotrode_boyden32c', 'paired_monotrode_crcns', 'paired_monotrode_kampff', 'paired_monotrode_mea64c', 'synth_bionet_drift', 'synth_bionet_shuffle', 'synth_bionet_static', 'synth_magland_noise10_K10_C4', 'synth_magland_noise10_K10_C8', 'synth_magland_noise10_K20_C4', 'synth_magland_noise10_K20_C8', 'synth_magland_noise20_K10_C4', 'synth_magland_noise20_K10_C8', 'synth_magland_noise20_K20_C4', 'synth_magland_noise20_K20_C8', 'synth_mearec_neuronexus_noise10_K10_C32', 'synth_mearec_neuronexus_noise10_K20_C32', 'synth_mearec_neuronexus_noise10_K40_C32', 'synth_mearec_neuronexus_noise20_K10_C32', 'synth_mearec_neuronexus_noise20_K20_C32', 'synth_mearec_neuronexus_noise20_K40_C32', 'synth_mearec_tetrode_noise10_K10_C4', 'synth_mearec_tetrode_noise10_K20_C4', 'synth_mearec_tetrode_noise20_K10_C4', 'synth_mearec_tetrode_noise20_K20_C4']\n"
     ]
    }
   ],
   "source": [
    "print(f\"Available studies:\\n{study_names}\")"
   ]
  },
  {
   "cell_type": "code",
   "execution_count": 7,
   "id": "together-hypothesis",
   "metadata": {},
   "outputs": [
    {
     "name": "stdout",
     "output_type": "stream",
     "text": [
      "Study hybrid_drift_siprobe has the following recordings:\n",
      "['rec_16c_1200s_11', 'rec_16c_1200s_21', 'rec_16c_1200s_31', 'rec_16c_600s_11', 'rec_16c_600s_12', 'rec_16c_600s_21', 'rec_16c_600s_22', 'rec_16c_600s_31', 'rec_16c_600s_32', 'rec_32c_1200s_11', 'rec_32c_1200s_21', 'rec_32c_1200s_31', 'rec_32c_600s_11', 'rec_32c_600s_12', 'rec_32c_600s_21', 'rec_32c_600s_22', 'rec_32c_600s_31', 'rec_32c_600s_32', 'rec_64c_1200s_11', 'rec_64c_600s_11', 'rec_64c_600s_12']\n"
     ]
    },
    {
     "name": "stderr",
     "output_type": "stream",
     "text": [
      "/Users/abuccino/anaconda3/envs/si/lib/python3.8/abc.py:102: ResourceWarning: unclosed <socket.socket fd=65, family=AddressFamily.AF_INET6, type=SocketKind.SOCK_STREAM, proto=6, laddr=('::1', 62020, 0, 0), raddr=('::1', 20431, 0, 0)>\n",
      "  return _abc_subclasscheck(cls, subclass)\n",
      "ResourceWarning: Enable tracemalloc to get the object allocation traceback\n",
      "/Users/abuccino/anaconda3/envs/si/lib/python3.8/abc.py:102: ResourceWarning: unclosed <socket.socket fd=66, family=AddressFamily.AF_INET6, type=SocketKind.SOCK_STREAM, proto=6, laddr=('::1', 62092, 0, 0), raddr=('::1', 20431, 0, 0)>\n",
      "  return _abc_subclasscheck(cls, subclass)\n",
      "ResourceWarning: Enable tracemalloc to get the object allocation traceback\n",
      "/Users/abuccino/anaconda3/envs/si/lib/python3.8/abc.py:102: ResourceWarning: unclosed <socket.socket fd=67, family=AddressFamily.AF_INET6, type=SocketKind.SOCK_STREAM, proto=6, laddr=('::1', 62105, 0, 0), raddr=('::1', 20431, 0, 0)>\n",
      "  return _abc_subclasscheck(cls, subclass)\n",
      "ResourceWarning: Enable tracemalloc to get the object allocation traceback\n"
     ]
    }
   ],
   "source": [
    "# retrieve recording names for a study\n",
    "target_study = study_names[0]\n",
    "recording_names = sfresults.get_recording_names(study_name=target_study)\n",
    "print(f\"Study {target_study} has the following recordings:\\n{recording_names}\")"
   ]
  },
  {
   "cell_type": "code",
   "execution_count": 8,
   "id": "standing-commercial",
   "metadata": {},
   "outputs": [
    {
     "ename": "NameError",
     "evalue": "name 'target_recording' is not defined",
     "output_type": "error",
     "traceback": [
      "\u001b[0;31m---------------------------------------------------------------------------\u001b[0m",
      "\u001b[0;31mNameError\u001b[0m                                 Traceback (most recent call last)",
      "\u001b[0;32m<ipython-input-8-95a8be19d3ca>\u001b[0m in \u001b[0;36m<module>\u001b[0;34m\u001b[0m\n\u001b[0;32m----> 1\u001b[0;31m \u001b[0mgt_sorting\u001b[0m \u001b[0;34m=\u001b[0m \u001b[0msfresults\u001b[0m\u001b[0;34m.\u001b[0m\u001b[0mget_gt_sorting_output\u001b[0m\u001b[0;34m(\u001b[0m\u001b[0mstudy_name\u001b[0m\u001b[0;34m=\u001b[0m\u001b[0mtarget_study\u001b[0m\u001b[0;34m,\u001b[0m \u001b[0mrecording_name\u001b[0m\u001b[0;34m=\u001b[0m\u001b[0mtarget_recording\u001b[0m\u001b[0;34m)\u001b[0m\u001b[0;34m\u001b[0m\u001b[0;34m\u001b[0m\u001b[0m\n\u001b[0m",
      "\u001b[0;31mNameError\u001b[0m: name 'target_recording' is not defined"
     ]
    }
   ],
   "source": [
    "gt_sorting = sfresults.get_gt_sorting_output(study_name=target_study, recording_name=target_recording)"
   ]
  },
  {
   "cell_type": "code",
   "execution_count": null,
   "id": "imperial-kansas",
   "metadata": {},
   "outputs": [],
   "source": [
    "# retrieve available sorter outputs\n",
    "target_recording = recording_names[0]\n",
    "sorting_output_names = sfresults.get_sorting_output_names(study_name=target_study, recording_name=target_recording)\n",
    "print(f\"Recording {target_recording} has the following sorting outputs:\\n{sorting_output_names}\")"
   ]
  },
  {
   "cell_type": "markdown",
   "id": "editorial-colonial",
   "metadata": {},
   "source": [
    "### Retrieve a sorting output as a `SortingExtractor` object"
   ]
  },
  {
   "cell_type": "code",
   "execution_count": null,
   "id": "surprising-henry",
   "metadata": {},
   "outputs": [],
   "source": [
    "target_sorting_output = \"IronClust\"\n",
    "sorting_output = sfresults.get_sorting_output(study_name=target_study, recording_name=target_recording,\n",
    "                                              sorter_name=target_sorting_output)"
   ]
  },
  {
   "cell_type": "code",
   "execution_count": null,
   "id": "significant-clause",
   "metadata": {},
   "outputs": [],
   "source": [
    "w = sw.plot_rasters(sorting_output)"
   ]
  },
  {
   "cell_type": "code",
   "execution_count": 13,
   "id": "streaming-jumping",
   "metadata": {},
   "outputs": [
    {
     "ename": "TypeError",
     "evalue": "cannot unpack non-iterable function object",
     "output_type": "error",
     "traceback": [
      "\u001b[0;31m---------------------------------------------------------------------------\u001b[0m",
      "\u001b[0;31mTypeError\u001b[0m                                 Traceback (most recent call last)",
      "\u001b[0;32m<ipython-input-13-be707781f2e4>\u001b[0m in \u001b[0;36m<module>\u001b[0;34m\u001b[0m\n\u001b[1;32m      1\u001b[0m \u001b[0;32mimport\u001b[0m \u001b[0mkachery_p2p\u001b[0m \u001b[0;32mas\u001b[0m \u001b[0mkp\u001b[0m\u001b[0;34m\u001b[0m\u001b[0;34m\u001b[0m\u001b[0m\n\u001b[1;32m      2\u001b[0m \u001b[0;34m\u001b[0m\u001b[0m\n\u001b[0;32m----> 3\u001b[0;31m \u001b[0mx\u001b[0m \u001b[0;34m=\u001b[0m \u001b[0mkp\u001b[0m\u001b[0;34m.\u001b[0m\u001b[0mload_json\u001b[0m\u001b[0;34m(\u001b[0m\u001b[0;34m'sha1://f728d5bf1118a8c6e2dfee7c99efb0256246d1d3/studysets.json'\u001b[0m\u001b[0;34m)\u001b[0m\u001b[0;34m\u001b[0m\u001b[0;34m\u001b[0m\u001b[0m\n\u001b[0m",
      "\u001b[0;32m~/anaconda3/envs/si/lib/python3.8/site-packages/kachery_p2p/main.py\u001b[0m in \u001b[0;36mload_json\u001b[0;34m(uri, p2p, from_node, from_channel)\u001b[0m\n\u001b[1;32m     82\u001b[0m         \u001b[0mUnion\u001b[0m\u001b[0;34m[\u001b[0m\u001b[0mdict\u001b[0m\u001b[0;34m,\u001b[0m \u001b[0;32mNone\u001b[0m\u001b[0;34m]\u001b[0m\u001b[0;34m:\u001b[0m \u001b[0mIf\u001b[0m \u001b[0mfound\u001b[0m\u001b[0;34m,\u001b[0m \u001b[0mthe\u001b[0m \u001b[0mPython\u001b[0m \u001b[0mdict\u001b[0m\u001b[0;34m,\u001b[0m \u001b[0;32melse\u001b[0m \u001b[0;32mNone\u001b[0m\u001b[0;34m\u001b[0m\u001b[0;34m\u001b[0m\u001b[0m\n\u001b[1;32m     83\u001b[0m     \"\"\"\n\u001b[0;32m---> 84\u001b[0;31m     \u001b[0;32mreturn\u001b[0m \u001b[0m_load_json\u001b[0m\u001b[0;34m(\u001b[0m\u001b[0muri\u001b[0m\u001b[0;34m=\u001b[0m\u001b[0muri\u001b[0m\u001b[0;34m,\u001b[0m \u001b[0mp2p\u001b[0m\u001b[0;34m=\u001b[0m\u001b[0mp2p\u001b[0m\u001b[0;34m,\u001b[0m \u001b[0mfrom_node\u001b[0m\u001b[0;34m=\u001b[0m\u001b[0mfrom_node\u001b[0m\u001b[0;34m,\u001b[0m \u001b[0mfrom_channel\u001b[0m\u001b[0;34m=\u001b[0m\u001b[0mfrom_channel\u001b[0m\u001b[0;34m)\u001b[0m\u001b[0;34m\u001b[0m\u001b[0;34m\u001b[0m\u001b[0m\n\u001b[0m\u001b[1;32m     85\u001b[0m \u001b[0;34m\u001b[0m\u001b[0m\n\u001b[1;32m     86\u001b[0m \u001b[0;32mdef\u001b[0m \u001b[0mload_object\u001b[0m\u001b[0;34m(\u001b[0m\u001b[0muri\u001b[0m\u001b[0;34m:\u001b[0m \u001b[0mstr\u001b[0m\u001b[0;34m,\u001b[0m \u001b[0mp2p\u001b[0m\u001b[0;34m:\u001b[0m \u001b[0mbool\u001b[0m\u001b[0;34m=\u001b[0m\u001b[0;32mTrue\u001b[0m\u001b[0;34m,\u001b[0m \u001b[0mfrom_node\u001b[0m\u001b[0;34m:\u001b[0m \u001b[0mUnion\u001b[0m\u001b[0;34m[\u001b[0m\u001b[0mstr\u001b[0m\u001b[0;34m,\u001b[0m \u001b[0;32mNone\u001b[0m\u001b[0;34m]\u001b[0m\u001b[0;34m=\u001b[0m\u001b[0;32mNone\u001b[0m\u001b[0;34m,\u001b[0m \u001b[0mfrom_channel\u001b[0m\u001b[0;34m:\u001b[0m \u001b[0mUnion\u001b[0m\u001b[0;34m[\u001b[0m\u001b[0mstr\u001b[0m\u001b[0;34m,\u001b[0m \u001b[0;32mNone\u001b[0m\u001b[0;34m]\u001b[0m\u001b[0;34m=\u001b[0m\u001b[0;32mNone\u001b[0m\u001b[0;34m)\u001b[0m \u001b[0;34m->\u001b[0m \u001b[0mUnion\u001b[0m\u001b[0;34m[\u001b[0m\u001b[0mdict\u001b[0m\u001b[0;34m,\u001b[0m \u001b[0;32mNone\u001b[0m\u001b[0;34m]\u001b[0m\u001b[0;34m:\u001b[0m\u001b[0;34m\u001b[0m\u001b[0;34m\u001b[0m\u001b[0m\n",
      "\u001b[0;32m~/anaconda3/envs/si/lib/python3.8/site-packages/kachery_p2p/_load_file.py\u001b[0m in \u001b[0;36m_load_json\u001b[0;34m(uri, p2p, from_node, from_channel)\u001b[0m\n\u001b[1;32m     98\u001b[0m \u001b[0;34m\u001b[0m\u001b[0m\n\u001b[1;32m     99\u001b[0m \u001b[0;32mdef\u001b[0m \u001b[0m_load_json\u001b[0m\u001b[0;34m(\u001b[0m\u001b[0muri\u001b[0m\u001b[0;34m:\u001b[0m \u001b[0mstr\u001b[0m\u001b[0;34m,\u001b[0m \u001b[0mp2p\u001b[0m\u001b[0;34m:\u001b[0m \u001b[0mbool\u001b[0m\u001b[0;34m=\u001b[0m\u001b[0;32mTrue\u001b[0m\u001b[0;34m,\u001b[0m \u001b[0mfrom_node\u001b[0m\u001b[0;34m:\u001b[0m \u001b[0mUnion\u001b[0m\u001b[0;34m[\u001b[0m\u001b[0mstr\u001b[0m\u001b[0;34m,\u001b[0m \u001b[0;32mNone\u001b[0m\u001b[0;34m]\u001b[0m\u001b[0;34m=\u001b[0m\u001b[0;32mNone\u001b[0m\u001b[0;34m,\u001b[0m \u001b[0mfrom_channel\u001b[0m\u001b[0;34m:\u001b[0m \u001b[0mUnion\u001b[0m\u001b[0;34m[\u001b[0m\u001b[0mstr\u001b[0m\u001b[0;34m,\u001b[0m \u001b[0;32mNone\u001b[0m\u001b[0;34m]\u001b[0m\u001b[0;34m=\u001b[0m\u001b[0;32mNone\u001b[0m\u001b[0;34m)\u001b[0m \u001b[0;34m->\u001b[0m \u001b[0mUnion\u001b[0m\u001b[0;34m[\u001b[0m\u001b[0mdict\u001b[0m\u001b[0;34m,\u001b[0m \u001b[0;32mNone\u001b[0m\u001b[0;34m]\u001b[0m\u001b[0;34m:\u001b[0m\u001b[0;34m\u001b[0m\u001b[0;34m\u001b[0m\u001b[0m\n\u001b[0;32m--> 100\u001b[0;31m     \u001b[0mlocal_path\u001b[0m \u001b[0;34m=\u001b[0m \u001b[0m_load_file\u001b[0m\u001b[0;34m(\u001b[0m\u001b[0muri\u001b[0m\u001b[0;34m,\u001b[0m \u001b[0mp2p\u001b[0m\u001b[0;34m=\u001b[0m\u001b[0mp2p\u001b[0m\u001b[0;34m,\u001b[0m \u001b[0mfrom_node\u001b[0m\u001b[0;34m=\u001b[0m\u001b[0mfrom_node\u001b[0m\u001b[0;34m,\u001b[0m \u001b[0mfrom_channel\u001b[0m\u001b[0;34m=\u001b[0m\u001b[0mfrom_channel\u001b[0m\u001b[0;34m)\u001b[0m\u001b[0;34m\u001b[0m\u001b[0;34m\u001b[0m\u001b[0m\n\u001b[0m\u001b[1;32m    101\u001b[0m     \u001b[0;32mif\u001b[0m \u001b[0mlocal_path\u001b[0m \u001b[0;32mis\u001b[0m \u001b[0;32mNone\u001b[0m\u001b[0;34m:\u001b[0m\u001b[0;34m\u001b[0m\u001b[0;34m\u001b[0m\u001b[0m\n\u001b[1;32m    102\u001b[0m         \u001b[0;32mreturn\u001b[0m \u001b[0;32mNone\u001b[0m\u001b[0;34m\u001b[0m\u001b[0;34m\u001b[0m\u001b[0m\n",
      "\u001b[0;32m~/anaconda3/envs/si/lib/python3.8/site-packages/kachery_p2p/_load_file.py\u001b[0m in \u001b[0;36m_load_file\u001b[0;34m(uri, dest, p2p, from_node, from_channel)\u001b[0m\n\u001b[1;32m     55\u001b[0m     \u001b[0;32massert\u001b[0m \u001b[0malgorithm\u001b[0m \u001b[0;34m==\u001b[0m \u001b[0;34m'sha1'\u001b[0m\u001b[0;34m\u001b[0m\u001b[0;34m\u001b[0m\u001b[0m\n\u001b[1;32m     56\u001b[0m     \u001b[0mfile_key\u001b[0m \u001b[0;34m=\u001b[0m \u001b[0m_create_file_key\u001b[0m\u001b[0;34m(\u001b[0m\u001b[0msha1\u001b[0m\u001b[0;34m=\u001b[0m\u001b[0mhash0\u001b[0m\u001b[0;34m,\u001b[0m \u001b[0mquery\u001b[0m\u001b[0;34m=\u001b[0m\u001b[0mquery\u001b[0m\u001b[0;34m)\u001b[0m\u001b[0;34m\u001b[0m\u001b[0;34m\u001b[0m\u001b[0m\n\u001b[0;32m---> 57\u001b[0;31m     \u001b[0mapi_url\u001b[0m\u001b[0;34m,\u001b[0m \u001b[0mheaders\u001b[0m \u001b[0;34m=\u001b[0m \u001b[0m_api_url\u001b[0m\u001b[0;34m\u001b[0m\u001b[0;34m\u001b[0m\u001b[0m\n\u001b[0m\u001b[1;32m     58\u001b[0m     \u001b[0murl\u001b[0m \u001b[0;34m=\u001b[0m \u001b[0;34mf'{api_url}/loadFile'\u001b[0m\u001b[0;34m\u001b[0m\u001b[0;34m\u001b[0m\u001b[0m\n\u001b[1;32m     59\u001b[0m     sock = _http_post_json_receive_json_socket(url, dict(\n",
      "\u001b[0;31mTypeError\u001b[0m: cannot unpack non-iterable function object"
     ]
    }
   ],
   "source": [
    "import kachery_p2p as kp\n",
    "\n",
    "x = kp.load_json('sha1://f728d5bf1118a8c6e2dfee7c99efb0256246d1d3/studysets.json')\n"
   ]
  },
  {
   "cell_type": "code",
   "execution_count": 4,
   "id": "superb-collins",
   "metadata": {},
   "outputs": [
    {
     "name": "stderr",
     "output_type": "stream",
     "text": [
      "/Users/abuccino/anaconda3/envs/si/lib/python3.8/site-packages/ipykernel/ipkernel.py:287: DeprecationWarning: `should_run_async` will not call `transform_cell` automatically in the future. Please pass the result to `transformed_cell` argument and any exception that happen during thetransform in `preprocessing_exc_tuple` in IPython 7.17 and above.\n",
      "  and should_run_async(code)\n"
     ]
    },
    {
     "name": "stdout",
     "output_type": "stream",
     "text": [
      "WARNING: load_object() is deprecated. Use load_json() instead.\n",
      "Loaded file: sha1://a205f87cef8b7f86df7a09cddbc79a1fbe5df60f/2014_11_25_Pair_3_0.json\n"
     ]
    },
    {
     "name": "stderr",
     "output_type": "stream",
     "text": [
      "/Users/abuccino/anaconda3/envs/si/lib/python3.8/threading.py:233: ResourceWarning: unclosed <socket.socket fd=64, family=AddressFamily.AF_INET6, type=SocketKind.SOCK_STREAM, proto=6, laddr=('::1', 61990, 0, 0), raddr=('::1', 20431, 0, 0)>\n",
      "  self._release_save = lock._release_save\n",
      "ResourceWarning: Enable tracemalloc to get the object allocation traceback\n"
     ]
    },
    {
     "name": "stdout",
     "output_type": "stream",
     "text": [
      "Loaded file: sha1://cff01b9ba06d4ab390ddfe3ae4bf99d2776677f4\n",
      "Loaded file: sha1://85ae566bd1e891541ac41b651f39974e3045f44d?chunkOf=b0bf0f3fcf35e3b1d9e4a77310ea7e721c7ce1f7~0~20000000\n",
      "Loaded file: sha1://c656add63d85a17840980084a1ff1cdc662a2cd5/2014_11_25_Pair_3_0.firings_true.json\n",
      "Loaded file: sha1://1cd517687aeca7ecdfaa9695680038d142a75031/firings_true.mda\n",
      "paired_kampff/2014_11_25_Pair_3_0\n",
      "Recording has 32 channels and 16716540 timepoints (samplerate: 30000.0)\n",
      "Unit 1 has 347 events\n"
     ]
    }
   ],
   "source": [
    "import labbox_ephys as le\n",
    "\n",
    "recording_name = 'paired_kampff/2014_11_25_Pair_3_0'\n",
    "recording_uri = 'sha1://a205f87cef8b7f86df7a09cddbc79a1fbe5df60f/2014_11_25_Pair_3_0.json'\n",
    "sorting_uri = 'sha1://c656add63d85a17840980084a1ff1cdc662a2cd5/2014_11_25_Pair_3_0.firings_true.json'\n",
    "\n",
    "recording = le.LabboxEphysRecordingExtractor(recording_uri, download=False)\n",
    "sorting_true = le.LabboxEphysSortingExtractor(sorting_uri)\n",
    "\n",
    "channel_ids = recording.get_channel_ids()\n",
    "samplerate = recording.get_sampling_frequency()\n",
    "num_timepoints = recording.get_num_frames()\n",
    "print(f'{recording_name}')\n",
    "print(f'Recording has {len(channel_ids)} channels and {num_timepoints} timepoints (samplerate: {samplerate})')\n",
    "\n",
    "unit_ids = sorting_true.get_unit_ids()\n",
    "spike_train = sorting_true.get_unit_spike_train(unit_id=unit_ids[0])\n",
    "print(f'Unit {unit_ids[0]} has {len(spike_train)} events')"
   ]
  },
  {
   "cell_type": "code",
   "execution_count": 15,
   "id": "material-supplier",
   "metadata": {},
   "outputs": [
    {
     "name": "stderr",
     "output_type": "stream",
     "text": [
      "/Users/abuccino/anaconda3/envs/si/lib/python3.8/site-packages/ipykernel/ipkernel.py:287: DeprecationWarning: `should_run_async` will not call `transform_cell` automatically in the future. Please pass the result to `transformed_cell` argument and any exception that happen during thetransform in `preprocessing_exc_tuple` in IPython 7.17 and above.\n",
      "  and should_run_async(code)\n"
     ]
    },
    {
     "data": {
      "text/plain": [
       "'sha1://0d1ae184564d358ace078c645026583fbb3d6fba/0d1ae184564d358ace078c645026583fbb3d6fba'"
      ]
     },
     "execution_count": 15,
     "metadata": {},
     "output_type": "execute_result"
    }
   ],
   "source": [
    "sfresults._df.iloc[0][\"firings\"]"
   ]
  },
  {
   "cell_type": "code",
   "execution_count": 16,
   "id": "independent-pilot",
   "metadata": {},
   "outputs": [
    {
     "data": {
      "text/plain": [
       "'sha1://05536d7a37efb3f5f2ca42c987964f199305f480/20160415_patch2.json'"
      ]
     },
     "execution_count": 16,
     "metadata": {},
     "output_type": "execute_result"
    }
   ],
   "source": [
    "sfresults._df.iloc[0][\"recordingUri\"]"
   ]
  },
  {
   "cell_type": "code",
   "execution_count": null,
   "id": "worthy-pharmaceutical",
   "metadata": {},
   "outputs": [],
   "source": []
  }
 ],
 "metadata": {
  "kernelspec": {
   "display_name": "Python 3",
   "language": "python",
   "name": "python3"
  },
  "language_info": {
   "codemirror_mode": {
    "name": "ipython",
    "version": 3
   },
   "file_extension": ".py",
   "mimetype": "text/x-python",
   "name": "python",
   "nbconvert_exporter": "python",
   "pygments_lexer": "ipython3",
   "version": "3.8.5"
  }
 },
 "nbformat": 4,
 "nbformat_minor": 5
}
